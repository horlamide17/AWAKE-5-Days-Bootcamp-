{
 "cells": [
  {
   "cell_type": "code",
   "execution_count": 1,
   "metadata": {},
   "outputs": [
    {
     "name": "stdout",
     "output_type": "stream",
     "text": [
      "x: 14, y: 8, z: 10\n"
     ]
    }
   ],
   "source": [
    "x = 5\n",
    "y = x + 3\n",
    "x = x - 1\n",
    "z = 10\n",
    "x = x + z\n",
    "print('x: {}, y: {}, z: {}'. format (x, y, z))"
   ]
  },
  {
   "cell_type": "code",
   "execution_count": 2,
   "metadata": {},
   "outputs": [
    {
     "name": "stdout",
     "output_type": "stream",
     "text": [
      "3 2 3.5\n"
     ]
    }
   ],
   "source": [
    "print(14//4, 14%4, 14.0/4)"
   ]
  },
  {
   "cell_type": "code",
   "execution_count": 3,
   "metadata": {},
   "outputs": [
    {
     "name": "stdout",
     "output_type": "stream",
     "text": [
      "NoNo!!!\n",
      "No!!!No!!!\n"
     ]
    }
   ],
   "source": [
    "print(2*'No' + 3*'!')\n",
    "print(2 * ('No' + 3*'!'))"
   ]
  },
  {
   "cell_type": "code",
   "execution_count": 4,
   "metadata": {},
   "outputs": [
    {
     "name": "stdout",
     "output_type": "stream",
     "text": [
      "how\n",
      "is it\n",
      "now\n"
     ]
    }
   ],
   "source": [
    "print('how\\nis it\\nnow')"
   ]
  },
  {
   "cell_type": "code",
   "execution_count": 5,
   "metadata": {},
   "outputs": [
    {
     "name": "stdout",
     "output_type": "stream",
     "text": [
      "1\n",
      "3\n",
      "6\n",
      "8\n"
     ]
    }
   ],
   "source": [
    "for z in [2, 4, 7, 9]:\n",
    "    print(z - 1)"
   ]
  },
  {
   "cell_type": "code",
   "execution_count": 6,
   "metadata": {},
   "outputs": [
    {
     "name": "stdout",
     "output_type": "stream",
     "text": [
      "23\n"
     ]
    }
   ],
   "source": [
    "print('2' + '3')"
   ]
  },
  {
   "cell_type": "code",
   "execution_count": 7,
   "metadata": {},
   "outputs": [
    {
     "name": "stdout",
     "output_type": "stream",
     "text": [
      "Lo\n",
      "Hi\n",
      "Hi\n"
     ]
    }
   ],
   "source": [
    "def f1():\n",
    "    print('Hi')\n",
    "def f2():\n",
    "    print('Lo')\n",
    "    \n",
    "f2()\n",
    "f1()\n",
    "f1()"
   ]
  },
  {
   "cell_type": "code",
   "execution_count": 8,
   "metadata": {},
   "outputs": [
    {
     "name": "stdout",
     "output_type": "stream",
     "text": [
      "No\n",
      "Yes\n"
     ]
    }
   ],
   "source": [
    "def func():\n",
    "    print('Yes')\n",
    "    \n",
    "print('No')\n",
    "func()"
   ]
  },
  {
   "cell_type": "code",
   "execution_count": 9,
   "metadata": {},
   "outputs": [
    {
     "name": "stdout",
     "output_type": "stream",
     "text": [
      "10\n",
      "8\n"
     ]
    }
   ],
   "source": [
    "def func(x):\n",
    "    print(2*x)\n",
    "    \n",
    "func(5)\n",
    "func(4)"
   ]
  },
  {
   "cell_type": "code",
   "execution_count": 10,
   "metadata": {},
   "outputs": [
    {
     "name": "stdout",
     "output_type": "stream",
     "text": [
      "8\n"
     ]
    }
   ],
   "source": [
    "def func(x):\n",
    "    return x - 1\n",
    "\n",
    "print(func(3) * func(5))"
   ]
  },
  {
   "cell_type": "code",
   "execution_count": 11,
   "metadata": {},
   "outputs": [
    {
     "name": "stdout",
     "output_type": "stream",
     "text": [
      "5\n",
      "10\n",
      "18\n"
     ]
    }
   ],
   "source": [
    "n = 3 #1\n",
    "for x in [2, 5, 8]: #2\n",
    "    n = n + x #3\n",
    "    print(n) #4"
   ]
  },
  {
   "cell_type": "code",
   "execution_count": 12,
   "metadata": {},
   "outputs": [
    {
     "name": "stdout",
     "output_type": "stream",
     "text": [
      "[0, 1, 2]\n"
     ]
    }
   ],
   "source": [
    "print(list(range(3)))"
   ]
  },
  {
   "cell_type": "code",
   "execution_count": 13,
   "metadata": {},
   "outputs": [
    {
     "name": "stdout",
     "output_type": "stream",
     "text": [
      "Hello again!\n",
      "Hello again!\n",
      "Hello again!\n"
     ]
    }
   ],
   "source": [
    "for i in range (3):\n",
    "    print('Hello again!')"
   ]
  },
  {
   "cell_type": "code",
   "execution_count": 14,
   "metadata": {},
   "outputs": [
    {
     "name": "stdout",
     "output_type": "stream",
     "text": [
      "0\n",
      "1\n",
      "2\n",
      "3\n"
     ]
    }
   ],
   "source": [
    "for i in range(4):\n",
    "    print(i)"
   ]
  },
  {
   "cell_type": "code",
   "execution_count": 15,
   "metadata": {},
   "outputs": [
    {
     "name": "stdout",
     "output_type": "stream",
     "text": [
      "1\n",
      "4\n",
      "100\n"
     ]
    }
   ],
   "source": [
    "def s(x):            #1\n",
    "    return x*x       #2\n",
    "\n",
    "for n in [1, 2, 10]: #3\n",
    "    print(s(n))      #4"
   ]
  },
  {
   "cell_type": "code",
   "execution_count": 16,
   "metadata": {},
   "outputs": [
    {
     "name": "stdout",
     "output_type": "stream",
     "text": [
      "1\n",
      "10\n",
      "35\n"
     ]
    }
   ],
   "source": [
    "def s(x): #1\n",
    "    return x*x #2\n",
    "tot = 0 #3\n",
    "for n in [1, 3, 5]: #4\n",
    "    tot = tot + s(n) #5\n",
    "    print(tot) #6"
   ]
  },
  {
   "cell_type": "code",
   "execution_count": 17,
   "metadata": {},
   "outputs": [
    {
     "name": "stdout",
     "output_type": "stream",
     "text": [
      "Answers 2.568 and 9.000\n"
     ]
    }
   ],
   "source": [
    "x = 2.5679\n",
    "y = 9.0\n",
    "print('Answers {:.3f} and {:.3f}'.format(x, y))"
   ]
  },
  {
   "cell_type": "code",
   "execution_count": 18,
   "metadata": {},
   "outputs": [
    {
     "name": "stdout",
     "output_type": "stream",
     "text": [
      "<< and >> or >> and <<\n"
     ]
    }
   ],
   "source": [
    "d = dict()\n",
    "d['left'] = '<<'\n",
    "d['right'] = '>>'\n",
    "print('{left} and {right} or {right} and {left}'.format(**d))"
   ]
  },
  {
   "cell_type": "code",
   "execution_count": null,
   "metadata": {},
   "outputs": [],
   "source": []
  }
 ],
 "metadata": {
  "kernelspec": {
   "display_name": "Python 3",
   "language": "python",
   "name": "python3"
  },
  "language_info": {
   "codemirror_mode": {
    "name": "ipython",
    "version": 3
   },
   "file_extension": ".py",
   "mimetype": "text/x-python",
   "name": "python",
   "nbconvert_exporter": "python",
   "pygments_lexer": "ipython3",
   "version": "3.6.5"
  }
 },
 "nbformat": 4,
 "nbformat_minor": 2
}
