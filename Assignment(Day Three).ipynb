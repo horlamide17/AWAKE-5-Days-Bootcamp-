{
 "cells": [
  {
   "cell_type": "code",
   "execution_count": 3,
   "metadata": {},
   "outputs": [
    {
     "name": "stdout",
     "output_type": "stream",
     "text": [
      "The player just earn 5 point\n"
     ]
    }
   ],
   "source": [
    "Alien_colour = 'green'\n",
    "\n",
    "if Alien_colour == 'green':\n",
    "    print('The player just earn 5 point')"
   ]
  },
  {
   "cell_type": "code",
   "execution_count": 4,
   "metadata": {},
   "outputs": [],
   "source": [
    "Alien_colour = 'yellow'\n",
    "\n",
    "if Alien_colour == 'red':\n",
    "    print('The player just earn 5 point')\n",
    "    "
   ]
  },
  {
   "cell_type": "code",
   "execution_count": 5,
   "metadata": {},
   "outputs": [
    {
     "name": "stdout",
     "output_type": "stream",
     "text": [
      "The player just earn 10 point\n"
     ]
    }
   ],
   "source": [
    "Alien_colour = 'Red'\n",
    "\n",
    "if Alien_colour == 'green':\n",
    "    print('The player just earn 5 point')\n",
    "else:\n",
    "    print('The player just earn 10 point')"
   ]
  },
  {
   "cell_type": "code",
   "execution_count": 3,
   "metadata": {},
   "outputs": [
    {
     "name": "stdout",
     "output_type": "stream",
     "text": [
      "green\n",
      "red\n"
     ]
    }
   ],
   "source": [
    "Alien_colour = [\"green\", \"yellow\", \"red\"]\n",
    "if \"green\" in Alien_colour:\n",
    "    print(\"green\")\n",
    "if \"pink\" in Alien_colour:\n",
    "    print(\"pink\")\n",
    "if \"red\" in Alien_colour:\n",
    "    print(\"red\")"
   ]
  },
  {
   "cell_type": "code",
   "execution_count": 4,
   "metadata": {},
   "outputs": [
    {
     "name": "stdout",
     "output_type": "stream",
     "text": [
      "red\n",
      "green\n",
      "yellow\n"
     ]
    }
   ],
   "source": [
    "Alien_colour = ['green', 'yellow', 'red']\n",
    "if \"blue\" in Alien_colour:\n",
    "    print(\"blue\")\n",
    "else:\n",
    "    print('red')\n",
    "if \"gold\" in Alien_colour:\n",
    "    print(\"gold\")\n",
    "else:\n",
    "    print('green')\n",
    "if \"pink\" in Alien_colour:\n",
    "    print(\"pink\")\n",
    "else:\n",
    "    print('yellow')"
   ]
  },
  {
   "cell_type": "code",
   "execution_count": null,
   "metadata": {},
   "outputs": [],
   "source": []
  }
 ],
 "metadata": {
  "kernelspec": {
   "display_name": "Python 3",
   "language": "python",
   "name": "python3"
  },
  "language_info": {
   "codemirror_mode": {
    "name": "ipython",
    "version": 3
   },
   "file_extension": ".py",
   "mimetype": "text/x-python",
   "name": "python",
   "nbconvert_exporter": "python",
   "pygments_lexer": "ipython3",
   "version": "3.6.5"
  }
 },
 "nbformat": 4,
 "nbformat_minor": 2
}
