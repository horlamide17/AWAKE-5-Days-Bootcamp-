{
 "cells": [
  {
   "cell_type": "code",
   "execution_count": 2,
   "metadata": {},
   "outputs": [
    {
     "name": "stdout",
     "output_type": "stream",
     "text": [
      "End of nested if block\n"
     ]
    }
   ],
   "source": [
    "x = 10\n",
    "y = 20\n",
    "z = 30\n",
    "if x == 10:\n",
    "    if y == 20:\n",
    "        print(\"End of nested if block\")\n",
    "    else:\n",
    "        print(\"End of nested if-Else-block\")\n",
    "else:\n",
    "    if y == 20:\n",
    "        print(\"Elif block\")\n",
    "    else:   \n",
    "        if z == 30:\n",
    "            print(\"end of nested if block\")\n",
    "        else:\n",
    "            print(\"end of nested if else block\")\n",
    "    \n",
    "         \n"
   ]
  },
  {
   "cell_type": "code",
   "execution_count": null,
   "metadata": {},
   "outputs": [],
   "source": []
  }
 ],
 "metadata": {
  "kernelspec": {
   "display_name": "Python 3",
   "language": "python",
   "name": "python3"
  },
  "language_info": {
   "codemirror_mode": {
    "name": "ipython",
    "version": 3
   },
   "file_extension": ".py",
   "mimetype": "text/x-python",
   "name": "python",
   "nbconvert_exporter": "python",
   "pygments_lexer": "ipython3",
   "version": "3.6.5"
  }
 },
 "nbformat": 4,
 "nbformat_minor": 2
}
